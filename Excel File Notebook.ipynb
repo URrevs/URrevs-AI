{
 "cells": [
  {
   "cell_type": "code",
   "execution_count": 9,
   "id": "12628a5d",
   "metadata": {},
   "outputs": [],
   "source": [
    "import pandas as pd\n",
    "from excel import excel"
   ]
  },
  {
   "cell_type": "markdown",
   "id": "a348ad94",
   "metadata": {},
   "source": [
    "### read dataFrame from excel"
   ]
  },
  {
   "cell_type": "code",
   "execution_count": 7,
   "id": "fc504bf0",
   "metadata": {},
   "outputs": [
    {
     "name": "stdout",
     "output_type": "stream",
     "text": [
      "   name  physics  chemistry  math\n",
      "0  Somu       68         84    78\n",
      "1  Kiku       74         56    88\n",
      "2  Amol       77         73    82\n",
      "3  Lini       78         69    87\n",
      "        id                          user    brand        product    date_rev  \\\n",
      "0        1  tYCHUoxpDZTVIYuKtrZwVcqkqni2    Apple         iPhone  2019-06-28   \n",
      "1        2  CpWUea33t4RTk9kqfvI9oUQjZwn1    Apple  iPhone XS Max  2019-06-28   \n",
      "2        3  vicALZKqf3YavyDkvQyP46gKxK83      HTC         U Play  2019-06-03   \n",
      "3        4  AtGRtW6YVbc9U6zn9OEvaXWQBAD2   Huawei       GR5 2017  2019-05-15   \n",
      "4        5  EEaS6x42xoZiDZ13rN0sOXe3IkD2   Huawei       GR5 2017  2019-05-15   \n",
      "...    ...                           ...      ...            ...         ...   \n",
      "1169  1301  a2sr58dHeaPchIvlWFZ9iDjy7yD3  Samsung    Galaxy A10s  2019-11-20   \n",
      "1170  1302  DKB0Q3g8v9Qua0eyFwDDB9PS2mm1  Samsung    Galaxy A10s  2019-11-20   \n",
      "1171  1303  hqqeEihuzUXGv7h7CW7C4yf6Oq22  Samsung    Galaxy A30s  2019-11-20   \n",
      "1172  1304  fXdssBRvF7WHIwX86QJ0yBC8vc22  Samsung    Galaxy A30s  2019-11-20   \n",
      "1173  1305  nDRaFsNp1FVjgsn0IpM90CWZ2vy1    Nokia         7 plus  2019-11-22   \n",
      "\n",
      "        date_buy                                               pros  \\\n",
      "0     2018-09-01  مرن وسهل الاستخدام ومليئ بالمزايا التي تسهل عل...   \n",
      "1     2019-01-01                   كل شيء الجهاز ممتاز ما شاء الله    \n",
      "2     2017-08-01                            Its shape and its Color   \n",
      "3     2017-06-01  نسخة ال64/4 الاداء جبار  مساحة و رام كويس جدا ...   \n",
      "4     2017-08-01  الكاميرا كويسة نوعا ما وسعره برضو مش غالي اوي ...   \n",
      "...          ...                                                ...   \n",
      "1169  2019-11-00                   مواصفاته كويسة جدا بالنسبة لسعره   \n",
      "1170  2019-11-00  الموبايل كويس جدا لحد دلوقتي  عاجبني شكل البصم...   \n",
      "1171  2019-11-00                                  دقة الشاشة كويسة    \n",
      "1172  2019-10-00  البطارية محترمة شاشة كبيرة الرامات كويسة بيشحن...   \n",
      "1173  2018-05-00                      تصميم رائع و معالجة صور رائعة   \n",
      "\n",
      "                                                   cons  rate  rate1  ...  \\\n",
      "0     الشاشة سهلة الكسر وغالية جدا وأيضا ذاكرة الصور...     1      5  ...   \n",
      "1     لازم كڤر عشان بيتزحلق كتير وغير كده كل شويه اج...     1      5  ...   \n",
      "2                       The performance and the battery     1      4  ...   \n",
      "3     الشاشة دقتها معقولة و لكن ليست الافضل  بيسخن ا...     5      5  ...   \n",
      "4     السماعة اللي مع الموبايل وحشة اوي وقديمة اكنها...     1      5  ...   \n",
      "...                                                 ...   ...    ...  ...   \n",
      "1169    ساعات الموبايل بيهنج حتي بعد ما عملتله ضبط مصنع     3      4  ...   \n",
      "1170                                           لا يوجد      5      3  ...   \n",
      "1171  البصمة اللي في الشاشة مش حلوة وفي اعدادات كتير...     4      3  ...   \n",
      "1172  بطئ في الاستجابة احيانا  البصمة في الشاشة  وحش...     4      3  ...   \n",
      "1173                  قاعدة الشحن معرضه للعطل بشكل كبير     4      4  ...   \n",
      "\n",
      "                                             brand_cons  brand_rate  \\\n",
      "0     الشاشة سهلة الكسر وغالية جدا وسعة الهاتف للصور...           4   \n",
      "1     الحزم في الاي كلاود والشبكات المغلقه ومدوخين ا...           5   \n",
      "2                                       Their batteries           4   \n",
      "3                                                    ..           4   \n",
      "4                                                   NaN           4   \n",
      "...                                                 ...         ...   \n",
      "1169                 في الفئة المتوسطة الجودة مش قد كدا           4   \n",
      "1170                                              لا شي           4   \n",
      "1171                                              لا شي           3   \n",
      "1172                                            nothing           3   \n",
      "1173                                           التسعيره           4   \n",
      "\n",
      "                              id.1                    uname  \\\n",
      "0     tYCHUoxpDZTVIYuKtrZwVcqkqni2             Ghada Mohsen   \n",
      "1     CpWUea33t4RTk9kqfvI9oUQjZwn1  Engineer-Mohammed Rajab   \n",
      "2     vicALZKqf3YavyDkvQyP46gKxK83              Adham Gamal   \n",
      "3     AtGRtW6YVbc9U6zn9OEvaXWQBAD2            Zeyad mohamed   \n",
      "4     EEaS6x42xoZiDZ13rN0sOXe3IkD2               Omar Tarek   \n",
      "...                            ...                      ...   \n",
      "1169  a2sr58dHeaPchIvlWFZ9iDjy7yD3            naser mohamed   \n",
      "1170  DKB0Q3g8v9Qua0eyFwDDB9PS2mm1                   yehia    \n",
      "1171  hqqeEihuzUXGv7h7CW7C4yf6Oq22              ahmed osama   \n",
      "1172  fXdssBRvF7WHIwX86QJ0yBC8vc22                     eyad   \n",
      "1173  nDRaFsNp1FVjgsn0IpM90CWZ2vy1           Loai AL_Jolani   \n",
      "\n",
      "                        email  \\\n",
      "0                         NaN   \n",
      "1                         NaN   \n",
      "2                         NaN   \n",
      "3                         NaN   \n",
      "4                         NaN   \n",
      "...                       ...   \n",
      "1169  naser124gma@outlook.com   \n",
      "1170     yehia89moh@gmail.com   \n",
      "1171    ahmed908moh@yahoo.com   \n",
      "1172       eyad89ga@yahoo.com   \n",
      "1173                      NaN   \n",
      "\n",
      "                                                uavatar youtube approved  \\\n",
      "0                                                   NaN     NaN        0   \n",
      "1     https://graph.facebook.com/2405325506228628/pi...     NaN        0   \n",
      "2                                                   NaN     NaN        0   \n",
      "3                                                   NaN     NaN        0   \n",
      "4                                                   NaN     NaN        0   \n",
      "...                                                 ...     ...      ...   \n",
      "1169                                                NaN     NaN        0   \n",
      "1170                                                NaN     NaN        0   \n",
      "1171                                                NaN     NaN        0   \n",
      "1172                                                NaN     NaN        0   \n",
      "1173  https://lh3.googleusercontent.com/a-/AAuE7mDUe...     NaN        0   \n",
      "\n",
      "      twitter facebook  \n",
      "0         NaN      NaN  \n",
      "1         NaN      NaN  \n",
      "2         NaN      NaN  \n",
      "3         NaN      NaN  \n",
      "4         NaN      NaN  \n",
      "...       ...      ...  \n",
      "1169      NaN      NaN  \n",
      "1170      NaN      NaN  \n",
      "1171      NaN      NaN  \n",
      "1172      NaN      NaN  \n",
      "1173      NaN      NaN  \n",
      "\n",
      "[1174 rows x 27 columns]\n"
     ]
    }
   ],
   "source": [
    "# create object of excel() with path of file argument \n",
    "ex=excel('data mobiles reviews.xlsx')\n",
    "# read dataframe from excel file argument is the sheetName defult =0 (can be index or name )\n",
    "data=ex.read_excel('sheet2')\n",
    "print(data)\n",
    "data2=ex.read_excel()\n",
    "print(data2)"
   ]
  },
  {
   "cell_type": "markdown",
   "id": "187d1bf0",
   "metadata": {},
   "source": [
    "### save dataframe to excel with sheet name"
   ]
  },
  {
   "cell_type": "code",
   "execution_count": 11,
   "id": "7da56afc",
   "metadata": {},
   "outputs": [],
   "source": [
    "df_marks = pd.DataFrame({'name': ['Somu', 'Kiku', 'Amol', 'Lini'],\n",
    "     'physics': [68, 74, 77, 78],\n",
    "     'chemistry': [84, 56, 73, 69],\n",
    "     'math': [78, 88, 82, 87]})\n",
    "\n",
    "ex.save_df_to_excel(dataFrame=df_marks,sheetName='marks')"
   ]
  },
  {
   "cell_type": "markdown",
   "id": "0496b6ee",
   "metadata": {},
   "source": [
    "### get number of sheets and its number "
   ]
  },
  {
   "cell_type": "code",
   "execution_count": 13,
   "id": "ead3f5cc",
   "metadata": {},
   "outputs": [
    {
     "name": "stdout",
     "output_type": "stream",
     "text": [
      "3\n",
      "['full data', 'sheet2', 'marks']\n"
     ]
    }
   ],
   "source": [
    "print(ex.get_sheet_number())\n",
    "print(ex.get_sheet_names())"
   ]
  },
  {
   "cell_type": "markdown",
   "id": "39852c00",
   "metadata": {},
   "source": [
    "### remnove sheet"
   ]
  },
  {
   "cell_type": "code",
   "execution_count": 14,
   "id": "12f497f6",
   "metadata": {},
   "outputs": [
    {
     "name": "stdout",
     "output_type": "stream",
     "text": [
      "['full data', 'sheet2', 'marks']\n",
      "['full data', 'sheet2']\n"
     ]
    }
   ],
   "source": [
    "print(ex.get_sheet_names())\n",
    "ex.remove_sheet('marks')\n",
    "print(ex.get_sheet_names())"
   ]
  }
 ],
 "metadata": {
  "kernelspec": {
   "display_name": "Python 3 (ipykernel)",
   "language": "python",
   "name": "python3"
  },
  "language_info": {
   "codemirror_mode": {
    "name": "ipython",
    "version": 3
   },
   "file_extension": ".py",
   "mimetype": "text/x-python",
   "name": "python",
   "nbconvert_exporter": "python",
   "pygments_lexer": "ipython3",
   "version": "3.9.7"
  }
 },
 "nbformat": 4,
 "nbformat_minor": 5
}
