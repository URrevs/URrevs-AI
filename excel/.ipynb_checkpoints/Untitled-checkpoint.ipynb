{
 "cells": [
  {
   "cell_type": "code",
   "execution_count": 39,
   "id": "12628a5d",
   "metadata": {},
   "outputs": [
    {
     "ename": "ImportError",
     "evalue": "cannot import name 'Person' from 'excel' (C:\\Users\\malak_000\\Downloads\\excel\\excel.py)",
     "output_type": "error",
     "traceback": [
      "\u001b[1;31m---------------------------------------------------------------------------\u001b[0m",
      "\u001b[1;31mImportError\u001b[0m                               Traceback (most recent call last)",
      "Input \u001b[1;32mIn [39]\u001b[0m, in \u001b[0;36m<cell line: 1>\u001b[1;34m()\u001b[0m\n\u001b[1;32m----> 1\u001b[0m \u001b[38;5;28;01mfrom\u001b[39;00m \u001b[38;5;21;01mexcel\u001b[39;00m \u001b[38;5;28;01mimport\u001b[39;00m excel,Person\n",
      "\u001b[1;31mImportError\u001b[0m: cannot import name 'Person' from 'excel' (C:\\Users\\malak_000\\Downloads\\excel\\excel.py)"
     ]
    }
   ],
   "source": [
    "from excel import Person"
   ]
  },
  {
   "cell_type": "code",
   "execution_count": 37,
   "id": "fc504bf0",
   "metadata": {},
   "outputs": [
    {
     "ename": "AttributeError",
     "evalue": "'excel' object has no attribute 'fun'",
     "output_type": "error",
     "traceback": [
      "\u001b[1;31m---------------------------------------------------------------------------\u001b[0m",
      "\u001b[1;31mAttributeError\u001b[0m                            Traceback (most recent call last)",
      "Input \u001b[1;32mIn [37]\u001b[0m, in \u001b[0;36m<cell line: 2>\u001b[1;34m()\u001b[0m\n\u001b[0;32m      1\u001b[0m ex\u001b[38;5;241m=\u001b[39mexcel(\u001b[38;5;124m'\u001b[39m\u001b[38;5;124mdata mobiles reviews.xlsx\u001b[39m\u001b[38;5;124m'\u001b[39m)\n\u001b[1;32m----> 2\u001b[0m \u001b[43mex\u001b[49m\u001b[38;5;241;43m.\u001b[39;49m\u001b[43mfun\u001b[49m()\n",
      "\u001b[1;31mAttributeError\u001b[0m: 'excel' object has no attribute 'fun'"
     ]
    }
   ],
   "source": [
    "ex=excel('data mobiles reviews.xlsx')\n",
    "ex.fun()"
   ]
  },
  {
   "cell_type": "code",
   "execution_count": 38,
   "id": "d9e18770",
   "metadata": {},
   "outputs": [
    {
     "ename": "NameError",
     "evalue": "name 'Person' is not defined",
     "output_type": "error",
     "traceback": [
      "\u001b[1;31m---------------------------------------------------------------------------\u001b[0m",
      "\u001b[1;31mNameError\u001b[0m                                 Traceback (most recent call last)",
      "Input \u001b[1;32mIn [38]\u001b[0m, in \u001b[0;36m<cell line: 1>\u001b[1;34m()\u001b[0m\n\u001b[1;32m----> 1\u001b[0m p \u001b[38;5;241m=\u001b[39m \u001b[43mPerson\u001b[49m(\u001b[38;5;124m'\u001b[39m\u001b[38;5;124mNikhil\u001b[39m\u001b[38;5;124m'\u001b[39m)\n\u001b[0;32m      2\u001b[0m p\u001b[38;5;241m.\u001b[39msay_hi()\n",
      "\u001b[1;31mNameError\u001b[0m: name 'Person' is not defined"
     ]
    }
   ],
   "source": [
    "p = Person('Nikhil')\n",
    "p.say_hi()  "
   ]
  }
 ],
 "metadata": {
  "kernelspec": {
   "display_name": "Python 3 (ipykernel)",
   "language": "python",
   "name": "python3"
  },
  "language_info": {
   "codemirror_mode": {
    "name": "ipython",
    "version": 3
   },
   "file_extension": ".py",
   "mimetype": "text/x-python",
   "name": "python",
   "nbconvert_exporter": "python",
   "pygments_lexer": "ipython3",
   "version": "3.9.7"
  }
 },
 "nbformat": 4,
 "nbformat_minor": 5
}
